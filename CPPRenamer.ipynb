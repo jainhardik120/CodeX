{
 "cells": [
  {
   "cell_type": "code",
   "execution_count": null,
   "metadata": {},
   "outputs": [],
   "source": [
    "import os\n",
    "import google.generativeai as genai\n",
    "from google.generativeai import caching\n",
    "import datetime\n",
    "import time\n",
    "\n",
    "# Get your API key from https://aistudio.google.com/app/apikey\n",
    "# and access your API key as an environment variable.\n",
    "# To authenticate from a Colab, see\n",
    "# https://github.com/google-gemini/cookbook/blob/main/quickstarts/Authentication.ipynb\n",
    "genai.configure(api_key=\"\")"
   ]
  },
  {
   "cell_type": "code",
   "execution_count": 4,
   "metadata": {},
   "outputs": [],
   "source": [
    "def find_files_with_extension(directory, extension):\n",
    "    \"\"\"Find all files with the specified extension in a directory.\"\"\"\n",
    "    for root, _, files in os.walk(directory):\n",
    "        for file in files:\n",
    "            if file.endswith(extension):\n",
    "                yield os.path.join(root, file)\n",
    "\n",
    "def get_file_content(file_path):\n",
    "    \"\"\"Read the content of a file.\"\"\"\n",
    "    with open(file_path, 'r', encoding='utf-8') as f:\n",
    "        return f.read()"
   ]
  },
  {
   "cell_type": "code",
   "execution_count": 13,
   "metadata": {},
   "outputs": [],
   "source": [
    "def rename_file(old_path, new_name):\n",
    "    \"\"\"Rename the file while keeping its extension.\"\"\"\n",
    "    directory, _ = os.path.split(old_path)\n",
    "    new_path = os.path.join(directory, new_name + \"_2.cpp\")\n",
    "\n",
    "    # Ensure the new filename does not already exist\n",
    "    if os.path.exists(new_path):\n",
    "        print(f\"File {new_path} already exists. Skipping renaming.\")\n",
    "        return\n",
    "\n",
    "    os.rename(old_path, new_path)\n",
    "    print(f\"Renamed: {old_path} → {new_path}\")"
   ]
  },
  {
   "cell_type": "code",
   "execution_count": 14,
   "metadata": {},
   "outputs": [],
   "source": [
    "def generate_new_filename(content):\n",
    "    \"\"\"Generate a new filename based on the content using Google GenAI.\"\"\"\n",
    "    model = genai.GenerativeModel(\"gemini-pro\")\n",
    "    \n",
    "    prompt = f\"\"\"\n",
    "    I have the following C++ file content:\n",
    "    \n",
    "    ```\n",
    "    {content}  # Sending only first 500 characters to avoid large input issues\n",
    "    ```\n",
    "\n",
    "    Based on this content, suggest a concise and descriptive filename without extensions.\n",
    "    Return only the filename, without quotes or explanations.\n",
    "    \"\"\"\n",
    "\n",
    "    response = model.generate_content(prompt)\n",
    "    \n",
    "    # Extract the filename suggestion\n",
    "    new_name = response.text.strip()\n",
    "    \n",
    "    # Ensure it's a valid filename\n",
    "    return \"\".join(c if c.isalnum() or c in (\"_\", \"-\") else \"_\" for c in new_name)\n"
   ]
  },
  {
   "cell_type": "code",
   "execution_count": 15,
   "metadata": {},
   "outputs": [
    {
     "name": "stdout",
     "output_type": "stream",
     "text": [
      "Processing: D:/code/cpp/New Folder\\BinarySearchTree.cpp\n",
      "Renamed: D:/code/cpp/New Folder\\BinarySearchTree.cpp → D:/code/cpp/New Folder\\BinarySearchTree_2.cpp\n",
      "Processing: D:/code/cpp/New Folder\\BinaryTreeOperations.cpp\n",
      "Renamed: D:/code/cpp/New Folder\\BinaryTreeOperations.cpp → D:/code/cpp/New Folder\\BinarySearchTreeOperations_2.cpp\n",
      "Processing: D:/code/cpp/New Folder\\BinaryTreeTraversal.cpp\n",
      "Renamed: D:/code/cpp/New Folder\\BinaryTreeTraversal.cpp → D:/code/cpp/New Folder\\BinaryTreeLevelAndSpiralTraversal_2.cpp\n",
      "Processing: D:/code/cpp/New Folder\\CoinChange.cpp\n",
      "Renamed: D:/code/cpp/New Folder\\CoinChange.cpp → D:/code/cpp/New Folder\\CoinChange_2.cpp\n",
      "Processing: D:/code/cpp/New Folder\\Fibonacci.cpp\n",
      "Renamed: D:/code/cpp/New Folder\\Fibonacci.cpp → D:/code/cpp/New Folder\\FibonacciCalculator_2.cpp\n",
      "Processing: D:/code/cpp/New Folder\\HuffmanCoding.cpp\n",
      "Renamed: D:/code/cpp/New Folder\\HuffmanCoding.cpp → D:/code/cpp/New Folder\\HuffmanCoding_2.cpp\n",
      "Processing: D:/code/cpp/New Folder\\LinkedListOperations.cpp\n",
      "Renamed: D:/code/cpp/New Folder\\LinkedListOperations.cpp → D:/code/cpp/New Folder\\LinkedListOperations_2.cpp\n",
      "Processing: D:/code/cpp/New Folder\\Main.cpp\n",
      "Renamed: D:/code/cpp/New Folder\\Main.cpp → D:/code/cpp/New Folder\\main_2.cpp\n",
      "Processing: D:/code/cpp/New Folder\\MatrixChainMultiplication.cpp\n",
      "Renamed: D:/code/cpp/New Folder\\MatrixChainMultiplication.cpp → D:/code/cpp/New Folder\\MatrixChainMultiplication_2.cpp\n",
      "Processing: D:/code/cpp/New Folder\\MergeSort.cpp\n",
      "Renamed: D:/code/cpp/New Folder\\MergeSort.cpp → D:/code/cpp/New Folder\\MergeSort_2.cpp\n",
      "Processing: D:/code/cpp/New Folder\\PermutationGenerator.cpp\n",
      "Renamed: D:/code/cpp/New Folder\\PermutationGenerator.cpp → D:/code/cpp/New Folder\\CombinatorialDFS_2.cpp\n",
      "Processing: D:/code/cpp/New Folder\\QuickSort.cpp\n",
      "Renamed: D:/code/cpp/New Folder\\QuickSort.cpp → D:/code/cpp/New Folder\\QuickSort_2.cpp\n",
      "Processing: D:/code/cpp/New Folder\\SortingAlgorithms.cpp\n",
      "Renamed: D:/code/cpp/New Folder\\SortingAlgorithms.cpp → D:/code/cpp/New Folder\\SortingAlgorithms_2.cpp\n"
     ]
    }
   ],
   "source": [
    "def main(directory, extension=\".cpp\"):\n",
    "    \"\"\"Find, read, and rename files based on AI suggestions.\"\"\"\n",
    "    for file_path in find_files_with_extension(directory, extension):\n",
    "        try:\n",
    "            print(f\"Processing: {file_path}\")\n",
    "            content = get_file_content(file_path)\n",
    "            new_name = generate_new_filename(content)\n",
    "            if new_name:\n",
    "                rename_file(file_path, new_name)\n",
    "        except Exception as e:\n",
    "            print(f\"Error processing {file_path}: {e}\")\n",
    "\n",
    "# Example usage\n",
    "directory_path = \"D:/code/cpp/New Folder\"\n",
    "main(directory_path)\n"
   ]
  }
 ],
 "metadata": {
  "kernelspec": {
   "display_name": "Python 3",
   "language": "python",
   "name": "python3"
  },
  "language_info": {
   "codemirror_mode": {
    "name": "ipython",
    "version": 3
   },
   "file_extension": ".py",
   "mimetype": "text/x-python",
   "name": "python",
   "nbconvert_exporter": "python",
   "pygments_lexer": "ipython3",
   "version": "3.13.1"
  }
 },
 "nbformat": 4,
 "nbformat_minor": 2
}
